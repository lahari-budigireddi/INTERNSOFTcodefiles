{
  "nbformat": 4,
  "nbformat_minor": 0,
  "metadata": {
    "colab": {
      "name": "Day 6 Numpy codes.ipynb",
      "provenance": [],
      "authorship_tag": "ABX9TyNaBWVWZg8kFfuwRBZNkI31",
      "include_colab_link": true
    },
    "kernelspec": {
      "name": "python3",
      "display_name": "Python 3"
    }
  },
  "cells": [
    {
      "cell_type": "markdown",
      "metadata": {
        "id": "view-in-github",
        "colab_type": "text"
      },
      "source": [
        "<a href=\"https://colab.research.google.com/github/lahari-budigireddi/INTERNSOFTcodefiles/blob/main/Day_6_Numpy_codes.ipynb\" target=\"_parent\"><img src=\"https://colab.research.google.com/assets/colab-badge.svg\" alt=\"Open In Colab\"/></a>"
      ]
    },
    {
      "cell_type": "code",
      "metadata": {
        "id": "U5Rl4Qy-beev"
      },
      "source": [
        "import numpy as np"
      ],
      "execution_count": 13,
      "outputs": []
    },
    {
      "cell_type": "code",
      "metadata": {
        "id": "w0L17JVdbUAB"
      },
      "source": [
        "a = np.arange(15)\n",
        "b = np.arange(20)"
      ],
      "execution_count": 14,
      "outputs": []
    },
    {
      "cell_type": "code",
      "metadata": {
        "id": "GJBs6JvWbUAB",
        "colab": {
          "base_uri": "https://localhost:8080/"
        },
        "outputId": "c829fc05-329e-4aee-db57-4991db2e8d3a"
      },
      "source": [
        "a\n",
        "b"
      ],
      "execution_count": 15,
      "outputs": [
        {
          "output_type": "execute_result",
          "data": {
            "text/plain": [
              "array([ 0,  1,  2,  3,  4,  5,  6,  7,  8,  9, 10, 11, 12, 13, 14, 15, 16,\n",
              "       17, 18, 19])"
            ]
          },
          "metadata": {
            "tags": []
          },
          "execution_count": 15
        }
      ]
    },
    {
      "cell_type": "code",
      "metadata": {
        "id": "UE6dE0c0bUAD",
        "colab": {
          "base_uri": "https://localhost:8080/"
        },
        "outputId": "bf4cd753-dca5-4381-f0a6-e8043df936bf"
      },
      "source": [
        "a = np.arange(15).reshape(3,5)\n",
        "\n",
        "a"
      ],
      "execution_count": 16,
      "outputs": [
        {
          "output_type": "execute_result",
          "data": {
            "text/plain": [
              "array([[ 0,  1,  2,  3,  4],\n",
              "       [ 5,  6,  7,  8,  9],\n",
              "       [10, 11, 12, 13, 14]])"
            ]
          },
          "metadata": {
            "tags": []
          },
          "execution_count": 16
        }
      ]
    },
    {
      "cell_type": "code",
      "metadata": {
        "id": "kton2h0XbUAE",
        "colab": {
          "base_uri": "https://localhost:8080/"
        },
        "outputId": "354f838c-be4a-407c-f457-cd1972cd9859"
      },
      "source": [
        "print(a.ndim)\n",
        "print(a.shape)\n",
        "print(a.size)\n",
        "print(a.dtype)\n",
        "print(a.itemsize)\n",
        "print(type(a))"
      ],
      "execution_count": 17,
      "outputs": [
        {
          "output_type": "stream",
          "text": [
            "2\n",
            "(3, 5)\n",
            "15\n",
            "int64\n",
            "8\n",
            "<class 'numpy.ndarray'>\n"
          ],
          "name": "stdout"
        }
      ]
    },
    {
      "cell_type": "code",
      "metadata": {
        "id": "OGb6bp4YbUAF",
        "outputId": "a0827d9f-41eb-42fa-ee76-c859cf6bec89"
      },
      "source": [
        "b = np.array( [1.0, 2.0, 3.0, 4.0] )\n",
        "print(b)\n",
        "print(b.dtype)\n",
        "print(type(b))"
      ],
      "execution_count": null,
      "outputs": [
        {
          "output_type": "stream",
          "text": [
            "[1. 2. 3. 4.]\n",
            "float64\n",
            "<class 'numpy.ndarray'>\n"
          ],
          "name": "stdout"
        }
      ]
    },
    {
      "cell_type": "code",
      "metadata": {
        "id": "sk9290lcbUAJ",
        "colab": {
          "base_uri": "https://localhost:8080/"
        },
        "outputId": "136be62a-cc7a-4e46-d775-eeec3b3df702"
      },
      "source": [
        "a = np.arange(12).reshape(3,4)\n",
        "print(a)"
      ],
      "execution_count": 19,
      "outputs": [
        {
          "output_type": "stream",
          "text": [
            "[[ 0  1  2  3]\n",
            " [ 4  5  6  7]\n",
            " [ 8  9 10 11]]\n"
          ],
          "name": "stdout"
        }
      ]
    },
    {
      "cell_type": "code",
      "metadata": {
        "id": "2tX7xuZ6bUAK",
        "colab": {
          "base_uri": "https://localhost:8080/"
        },
        "outputId": "55b593a4-f3a4-4a55-93fc-d215d41bd640"
      },
      "source": [
        "a*2"
      ],
      "execution_count": 20,
      "outputs": [
        {
          "output_type": "execute_result",
          "data": {
            "text/plain": [
              "array([[ 0,  2,  4,  6],\n",
              "       [ 8, 10, 12, 14],\n",
              "       [16, 18, 20, 22]])"
            ]
          },
          "metadata": {
            "tags": []
          },
          "execution_count": 20
        }
      ]
    },
    {
      "cell_type": "code",
      "metadata": {
        "id": "kg3aempzbUAK",
        "colab": {
          "base_uri": "https://localhost:8080/"
        },
        "outputId": "c72999bc-2563-4ab2-b230-0d10b8ee322b"
      },
      "source": [
        "a + a"
      ],
      "execution_count": 21,
      "outputs": [
        {
          "output_type": "execute_result",
          "data": {
            "text/plain": [
              "array([[ 0,  2,  4,  6],\n",
              "       [ 8, 10, 12, 14],\n",
              "       [16, 18, 20, 22]])"
            ]
          },
          "metadata": {
            "tags": []
          },
          "execution_count": 21
        }
      ]
    },
    {
      "cell_type": "code",
      "metadata": {
        "id": "Kl0Sq7_BbUAL",
        "colab": {
          "base_uri": "https://localhost:8080/"
        },
        "outputId": "7f54c02b-c575-4d86-a99a-f8b87b324df6"
      },
      "source": [
        "a*a"
      ],
      "execution_count": 22,
      "outputs": [
        {
          "output_type": "execute_result",
          "data": {
            "text/plain": [
              "array([[  0,   1,   4,   9],\n",
              "       [ 16,  25,  36,  49],\n",
              "       [ 64,  81, 100, 121]])"
            ]
          },
          "metadata": {
            "tags": []
          },
          "execution_count": 22
        }
      ]
    },
    {
      "cell_type": "code",
      "metadata": {
        "id": "2pUDf4uAbUAL",
        "colab": {
          "base_uri": "https://localhost:8080/"
        },
        "outputId": "92c59ccb-554b-4dca-f615-eff616b48117"
      },
      "source": [
        "b = a.transpose()\n",
        "b"
      ],
      "execution_count": 24,
      "outputs": [
        {
          "output_type": "execute_result",
          "data": {
            "text/plain": [
              "array([[ 0,  4,  8],\n",
              "       [ 1,  5,  9],\n",
              "       [ 2,  6, 10],\n",
              "       [ 3,  7, 11]])"
            ]
          },
          "metadata": {
            "tags": []
          },
          "execution_count": 24
        }
      ]
    },
    {
      "cell_type": "code",
      "metadata": {
        "id": "CCovxhPKbUAM",
        "colab": {
          "base_uri": "https://localhost:8080/"
        },
        "outputId": "c7e090a2-26c2-4ca9-9548-acb11c8dad64"
      },
      "source": [
        "a @ b"
      ],
      "execution_count": 25,
      "outputs": [
        {
          "output_type": "execute_result",
          "data": {
            "text/plain": [
              "array([[ 14,  38,  62],\n",
              "       [ 38, 126, 214],\n",
              "       [ 62, 214, 366]])"
            ]
          },
          "metadata": {
            "tags": []
          },
          "execution_count": 25
        }
      ]
    },
    {
      "cell_type": "code",
      "metadata": {
        "id": "EXu7oMJmbUAM",
        "colab": {
          "base_uri": "https://localhost:8080/"
        },
        "outputId": "b0e00553-d65d-47db-c50f-8897bb45927f"
      },
      "source": [
        "print(a)\n",
        "a.sum(axis=1)"
      ],
      "execution_count": 26,
      "outputs": [
        {
          "output_type": "stream",
          "text": [
            "[[ 0  1  2  3]\n",
            " [ 4  5  6  7]\n",
            " [ 8  9 10 11]]\n"
          ],
          "name": "stdout"
        },
        {
          "output_type": "execute_result",
          "data": {
            "text/plain": [
              "array([ 6, 22, 38])"
            ]
          },
          "metadata": {
            "tags": []
          },
          "execution_count": 26
        }
      ]
    },
    {
      "cell_type": "code",
      "metadata": {
        "id": "tiyNn4WCbUAN",
        "colab": {
          "base_uri": "https://localhost:8080/"
        },
        "outputId": "eca7a12b-bfdc-418b-b5ec-f73a8b0faa4e"
      },
      "source": [
        "a.sum()"
      ],
      "execution_count": 27,
      "outputs": [
        {
          "output_type": "execute_result",
          "data": {
            "text/plain": [
              "66"
            ]
          },
          "metadata": {
            "tags": []
          },
          "execution_count": 27
        }
      ]
    },
    {
      "cell_type": "code",
      "metadata": {
        "id": "rh4bj_mJbUAN",
        "colab": {
          "base_uri": "https://localhost:8080/"
        },
        "outputId": "a90984d3-9f3c-4dea-f20a-18484bd696ac"
      },
      "source": [
        "print(a.min(), a.max())"
      ],
      "execution_count": 28,
      "outputs": [
        {
          "output_type": "stream",
          "text": [
            "0 11\n"
          ],
          "name": "stdout"
        }
      ]
    },
    {
      "cell_type": "code",
      "metadata": {
        "id": "PBRiJDMqbUAO",
        "colab": {
          "base_uri": "https://localhost:8080/"
        },
        "outputId": "9b039246-223e-4082-bbd4-b4655cef2622"
      },
      "source": [
        "b = a*np.pi/12.0\n",
        "print(b)"
      ],
      "execution_count": 29,
      "outputs": [
        {
          "output_type": "stream",
          "text": [
            "[[0.         0.26179939 0.52359878 0.78539816]\n",
            " [1.04719755 1.30899694 1.57079633 1.83259571]\n",
            " [2.0943951  2.35619449 2.61799388 2.87979327]]\n"
          ],
          "name": "stdout"
        }
      ]
    },
    {
      "cell_type": "code",
      "metadata": {
        "id": "FnqqOUJGbUAP",
        "colab": {
          "base_uri": "https://localhost:8080/"
        },
        "outputId": "ec9d0990-e039-493b-b2f3-7c673e20e365"
      },
      "source": [
        "c = np.cos(b)\n",
        "print(c)"
      ],
      "execution_count": 30,
      "outputs": [
        {
          "output_type": "stream",
          "text": [
            "[[ 1.00000000e+00  9.65925826e-01  8.66025404e-01  7.07106781e-01]\n",
            " [ 5.00000000e-01  2.58819045e-01  6.12323400e-17 -2.58819045e-01]\n",
            " [-5.00000000e-01 -7.07106781e-01 -8.66025404e-01 -9.65925826e-01]]\n"
          ],
          "name": "stdout"
        }
      ]
    },
    {
      "cell_type": "code",
      "metadata": {
        "id": "v9sVUemjbUAP"
      },
      "source": [
        "d = b + c "
      ],
      "execution_count": 31,
      "outputs": []
    },
    {
      "cell_type": "code",
      "metadata": {
        "colab": {
          "base_uri": "https://localhost:8080/"
        },
        "id": "6xdWQu7SfnfN",
        "outputId": "4f1c20b5-7a64-4762-cfe9-44dd35ee4825"
      },
      "source": [
        "c[1] = -1\n",
        "print(a)\n",
        "print(c)"
      ],
      "execution_count": 33,
      "outputs": [
        {
          "output_type": "stream",
          "text": [
            "[[ 0  1  2  3]\n",
            " [ 4  5  6  7]\n",
            " [ 8  9 10 11]]\n",
            "[[ 1.          0.96592583  0.8660254   0.70710678]\n",
            " [-1.         -1.         -1.         -1.        ]\n",
            " [-0.5        -0.70710678 -0.8660254  -0.96592583]]\n"
          ],
          "name": "stdout"
        }
      ]
    },
    {
      "cell_type": "code",
      "metadata": {
        "id": "xIwoVBjIbUAf",
        "colab": {
          "base_uri": "https://localhost:8080/"
        },
        "outputId": "cc4ca3fb-b821-44af-c2ea-39e63dcff052"
      },
      "source": [
        "print(c is a)\n",
        "print(c.base is a)\n",
        "print(c.flags.owndata)\n",
        "print(a.flags.owndata)"
      ],
      "execution_count": 34,
      "outputs": [
        {
          "output_type": "stream",
          "text": [
            "False\n",
            "False\n",
            "True\n",
            "False\n"
          ],
          "name": "stdout"
        }
      ]
    },
    {
      "cell_type": "code",
      "metadata": {
        "id": "pp3TZNQlbUAg",
        "colab": {
          "base_uri": "https://localhost:8080/"
        },
        "outputId": "de9c3704-8901-4b1d-f615-6501a7554821"
      },
      "source": [
        "d = a.copy()\n",
        "d[:,:] = 0.0\n",
        "\n",
        "print(a)\n",
        "print(d)"
      ],
      "execution_count": 35,
      "outputs": [
        {
          "output_type": "stream",
          "text": [
            "[[ 0  1  2  3]\n",
            " [ 4  5  6  7]\n",
            " [ 8  9 10 11]]\n",
            "[[0 0 0 0]\n",
            " [0 0 0 0]\n",
            " [0 0 0 0]]\n"
          ],
          "name": "stdout"
        }
      ]
    },
    {
      "cell_type": "code",
      "metadata": {
        "id": "yjYeRNz7bUAg",
        "colab": {
          "base_uri": "https://localhost:8080/"
        },
        "outputId": "8b97b475-0ede-4e78-de49-7a5ba0cf0ba8"
      },
      "source": [
        "a = np.arange(12).reshape(3,4)\n",
        "a"
      ],
      "execution_count": 36,
      "outputs": [
        {
          "output_type": "execute_result",
          "data": {
            "text/plain": [
              "array([[ 0,  1,  2,  3],\n",
              "       [ 4,  5,  6,  7],\n",
              "       [ 8,  9, 10, 11]])"
            ]
          },
          "metadata": {
            "tags": []
          },
          "execution_count": 36
        }
      ]
    },
    {
      "cell_type": "code",
      "metadata": {
        "id": "PjNCux1NbUAm",
        "colab": {
          "base_uri": "https://localhost:8080/"
        },
        "outputId": "21e7298d-f77b-40de-b8a2-0b7e663fd890"
      },
      "source": [
        "a[a == 0] = -1\n",
        "a"
      ],
      "execution_count": 37,
      "outputs": [
        {
          "output_type": "execute_result",
          "data": {
            "text/plain": [
              "array([[-1,  1,  2,  3],\n",
              "       [ 4,  5,  6,  7],\n",
              "       [ 8,  9, 10, 11]])"
            ]
          },
          "metadata": {
            "tags": []
          },
          "execution_count": 37
        }
      ]
    },
    {
      "cell_type": "code",
      "metadata": {
        "id": "eJ75ntH0bUAo",
        "colab": {
          "base_uri": "https://localhost:8080/"
        },
        "outputId": "717f2bd9-fc62-4d08-8c05-dc0510f155b7"
      },
      "source": [
        "a = np.arange(12).reshape(3,4)\n",
        "a[np.logical_and(a > 3, a <= 9)] = 0.0\n",
        "a"
      ],
      "execution_count": 38,
      "outputs": [
        {
          "output_type": "execute_result",
          "data": {
            "text/plain": [
              "array([[ 0,  1,  2,  3],\n",
              "       [ 0,  0,  0,  0],\n",
              "       [ 0,  0, 10, 11]])"
            ]
          },
          "metadata": {
            "tags": []
          },
          "execution_count": 38
        }
      ]
    },
    {
      "cell_type": "code",
      "metadata": {
        "id": "QRAgwx0EbUAo",
        "colab": {
          "base_uri": "https://localhost:8080/"
        },
        "outputId": "31e169d2-818f-4917-d95e-a500b0ec8051"
      },
      "source": [
        "a > 4"
      ],
      "execution_count": 39,
      "outputs": [
        {
          "output_type": "execute_result",
          "data": {
            "text/plain": [
              "array([[False, False, False, False],\n",
              "       [False, False, False, False],\n",
              "       [False, False,  True,  True]])"
            ]
          },
          "metadata": {
            "tags": []
          },
          "execution_count": 39
        }
      ]
    },
    {
      "cell_type": "code",
      "metadata": {
        "id": "shGus00AbUAp",
        "colab": {
          "base_uri": "https://localhost:8080/"
        },
        "outputId": "e0bb3303-0556-4c16-af3f-1d44df218b1e"
      },
      "source": [
        "M = 32\n",
        "N = 64\n",
        "xmin = ymin = 0.0\n",
        "xmax = ymax = 1.0\n",
        "\n",
        "x = np.linspace(xmin, xmax, M, endpoint=False)\n",
        "y = np.linspace(ymin, ymax, N, endpoint=False)\n",
        "\n",
        "print(x.shape)\n",
        "print(y.shape)\n",
        "y"
      ],
      "execution_count": 40,
      "outputs": [
        {
          "output_type": "stream",
          "text": [
            "(32,)\n",
            "(64,)\n"
          ],
          "name": "stdout"
        },
        {
          "output_type": "execute_result",
          "data": {
            "text/plain": [
              "array([0.      , 0.015625, 0.03125 , 0.046875, 0.0625  , 0.078125,\n",
              "       0.09375 , 0.109375, 0.125   , 0.140625, 0.15625 , 0.171875,\n",
              "       0.1875  , 0.203125, 0.21875 , 0.234375, 0.25    , 0.265625,\n",
              "       0.28125 , 0.296875, 0.3125  , 0.328125, 0.34375 , 0.359375,\n",
              "       0.375   , 0.390625, 0.40625 , 0.421875, 0.4375  , 0.453125,\n",
              "       0.46875 , 0.484375, 0.5     , 0.515625, 0.53125 , 0.546875,\n",
              "       0.5625  , 0.578125, 0.59375 , 0.609375, 0.625   , 0.640625,\n",
              "       0.65625 , 0.671875, 0.6875  , 0.703125, 0.71875 , 0.734375,\n",
              "       0.75    , 0.765625, 0.78125 , 0.796875, 0.8125  , 0.828125,\n",
              "       0.84375 , 0.859375, 0.875   , 0.890625, 0.90625 , 0.921875,\n",
              "       0.9375  , 0.953125, 0.96875 , 0.984375])"
            ]
          },
          "metadata": {
            "tags": []
          },
          "execution_count": 40
        }
      ]
    },
    {
      "cell_type": "code",
      "metadata": {
        "id": "s9SjN4x-bUAq",
        "colab": {
          "base_uri": "https://localhost:8080/"
        },
        "outputId": "0bb6471d-b548-4cb7-b466-939e5a0a626d"
      },
      "source": [
        "x2d, y2d = np.meshgrid(x, y, indexing=\"ij\")\n",
        "\n",
        "print(x2d[:,0])\n",
        "print(x2d[0,:])\n",
        "\n",
        "print(y2d[:,0])\n",
        "print(y2d[0,:])"
      ],
      "execution_count": 41,
      "outputs": [
        {
          "output_type": "stream",
          "text": [
            "[0.      0.03125 0.0625  0.09375 0.125   0.15625 0.1875  0.21875 0.25\n",
            " 0.28125 0.3125  0.34375 0.375   0.40625 0.4375  0.46875 0.5     0.53125\n",
            " 0.5625  0.59375 0.625   0.65625 0.6875  0.71875 0.75    0.78125 0.8125\n",
            " 0.84375 0.875   0.90625 0.9375  0.96875]\n",
            "[0. 0. 0. 0. 0. 0. 0. 0. 0. 0. 0. 0. 0. 0. 0. 0. 0. 0. 0. 0. 0. 0. 0. 0.\n",
            " 0. 0. 0. 0. 0. 0. 0. 0. 0. 0. 0. 0. 0. 0. 0. 0. 0. 0. 0. 0. 0. 0. 0. 0.\n",
            " 0. 0. 0. 0. 0. 0. 0. 0. 0. 0. 0. 0. 0. 0. 0. 0.]\n",
            "[0. 0. 0. 0. 0. 0. 0. 0. 0. 0. 0. 0. 0. 0. 0. 0. 0. 0. 0. 0. 0. 0. 0. 0.\n",
            " 0. 0. 0. 0. 0. 0. 0. 0.]\n",
            "[0.       0.015625 0.03125  0.046875 0.0625   0.078125 0.09375  0.109375\n",
            " 0.125    0.140625 0.15625  0.171875 0.1875   0.203125 0.21875  0.234375\n",
            " 0.25     0.265625 0.28125  0.296875 0.3125   0.328125 0.34375  0.359375\n",
            " 0.375    0.390625 0.40625  0.421875 0.4375   0.453125 0.46875  0.484375\n",
            " 0.5      0.515625 0.53125  0.546875 0.5625   0.578125 0.59375  0.609375\n",
            " 0.625    0.640625 0.65625  0.671875 0.6875   0.703125 0.71875  0.734375\n",
            " 0.75     0.765625 0.78125  0.796875 0.8125   0.828125 0.84375  0.859375\n",
            " 0.875    0.890625 0.90625  0.921875 0.9375   0.953125 0.96875  0.984375]\n"
          ],
          "name": "stdout"
        }
      ]
    },
    {
      "cell_type": "code",
      "metadata": {
        "id": "BOS2rrn3bUAs",
        "colab": {
          "base_uri": "https://localhost:8080/"
        },
        "outputId": "5d535b66-0f94-41af-8fb6-acfff37b8717"
      },
      "source": [
        "x = np.array([1, 2, 3, 4])\n",
        "y = np.array([4, 3, 2, 1])\n",
        "np.concatenate([y,x])"
      ],
      "execution_count": 42,
      "outputs": [
        {
          "output_type": "execute_result",
          "data": {
            "text/plain": [
              "array([4, 3, 2, 1, 1, 2, 3, 4])"
            ]
          },
          "metadata": {
            "tags": []
          },
          "execution_count": 42
        }
      ]
    },
    {
      "cell_type": "code",
      "metadata": {
        "id": "CODNhFrnbUAt",
        "colab": {
          "base_uri": "https://localhost:8080/",
          "height": 180
        },
        "outputId": "cb153d27-04b7-4a9e-a078-ea0fcf45fe8b"
      },
      "source": [
        "# concatenate along the second axis (zero-indexed)\n",
        "np.concatenate([grid, grid], axis=1)"
      ],
      "execution_count": 43,
      "outputs": [
        {
          "output_type": "error",
          "ename": "NameError",
          "evalue": "ignored",
          "traceback": [
            "\u001b[0;31m---------------------------------------------------------------------------\u001b[0m",
            "\u001b[0;31mNameError\u001b[0m                                 Traceback (most recent call last)",
            "\u001b[0;32m<ipython-input-43-c13d0cfbe175>\u001b[0m in \u001b[0;36m<module>\u001b[0;34m()\u001b[0m\n\u001b[1;32m      1\u001b[0m \u001b[0;31m# concatenate along the second axis (zero-indexed)\u001b[0m\u001b[0;34m\u001b[0m\u001b[0;34m\u001b[0m\u001b[0;34m\u001b[0m\u001b[0m\n\u001b[0;32m----> 2\u001b[0;31m \u001b[0mnp\u001b[0m\u001b[0;34m.\u001b[0m\u001b[0mconcatenate\u001b[0m\u001b[0;34m(\u001b[0m\u001b[0;34m[\u001b[0m\u001b[0mgrid\u001b[0m\u001b[0;34m,\u001b[0m \u001b[0mgrid\u001b[0m\u001b[0;34m]\u001b[0m\u001b[0;34m,\u001b[0m \u001b[0maxis\u001b[0m\u001b[0;34m=\u001b[0m\u001b[0;36m1\u001b[0m\u001b[0;34m)\u001b[0m\u001b[0;34m\u001b[0m\u001b[0;34m\u001b[0m\u001b[0m\n\u001b[0m",
            "\u001b[0;31mNameError\u001b[0m: name 'grid' is not defined"
          ]
        }
      ]
    },
    {
      "cell_type": "code",
      "metadata": {
        "id": "BmUNa_wEbUAv",
        "colab": {
          "base_uri": "https://localhost:8080/"
        },
        "outputId": "f08487db-dc83-4fbc-f059-cffa8454b550"
      },
      "source": [
        "x = np.arange(1, 9)\n",
        "print(x)\n",
        "np.add.reduce(x)"
      ],
      "execution_count": 44,
      "outputs": [
        {
          "output_type": "stream",
          "text": [
            "[1 2 3 4 5 6 7 8]\n"
          ],
          "name": "stdout"
        },
        {
          "output_type": "execute_result",
          "data": {
            "text/plain": [
              "36"
            ]
          },
          "metadata": {
            "tags": []
          },
          "execution_count": 44
        }
      ]
    },
    {
      "cell_type": "code",
      "metadata": {
        "id": "VlYhSqkLbUAw",
        "colab": {
          "base_uri": "https://localhost:8080/"
        },
        "outputId": "41a879a3-f7ec-47cc-a1f5-e7cbde30c65c"
      },
      "source": [
        "np.add.accumulate(x)"
      ],
      "execution_count": 45,
      "outputs": [
        {
          "output_type": "execute_result",
          "data": {
            "text/plain": [
              "array([ 1,  3,  6, 10, 15, 21, 28, 36])"
            ]
          },
          "metadata": {
            "tags": []
          },
          "execution_count": 45
        }
      ]
    },
    {
      "cell_type": "code",
      "metadata": {
        "id": "lOrLX5C5bUAw",
        "colab": {
          "base_uri": "https://localhost:8080/"
        },
        "outputId": "a7638bfd-7189-4150-9f28-49e470f295e5"
      },
      "source": [
        "np.multiply.accumulate(x)"
      ],
      "execution_count": 46,
      "outputs": [
        {
          "output_type": "execute_result",
          "data": {
            "text/plain": [
              "array([    1,     2,     6,    24,   120,   720,  5040, 40320])"
            ]
          },
          "metadata": {
            "tags": []
          },
          "execution_count": 46
        }
      ]
    }
  ]
}