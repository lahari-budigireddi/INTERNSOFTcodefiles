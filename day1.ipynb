{
  "nbformat": 4,
  "nbformat_minor": 0,
  "metadata": {
    "colab": {
      "name": "day1.ipynb",
      "provenance": [],
      "authorship_tag": "ABX9TyMiT14DAYCBWmUvaAMg/vTD",
      "include_colab_link": true
    },
    "kernelspec": {
      "name": "python3",
      "display_name": "Python 3"
    }
  },
  "cells": [
    {
      "cell_type": "markdown",
      "metadata": {
        "id": "view-in-github",
        "colab_type": "text"
      },
      "source": [
        "<a href=\"https://colab.research.google.com/github/lahari-budigireddi/INTERNSOFTcodefiles/blob/main/day1.ipynb\" target=\"_parent\"><img src=\"https://colab.research.google.com/assets/colab-badge.svg\" alt=\"Open In Colab\"/></a>"
      ]
    },
    {
      "cell_type": "code",
      "metadata": {
        "colab": {
          "base_uri": "https://localhost:8080/"
        },
        "id": "FvROmVsQLdaN",
        "outputId": "aee7735c-2331-4d69-ca3e-d1b8378dd941"
      },
      "source": [
        " #integers\r\n",
        "x = 5\r\n",
        "type(x)"
      ],
      "execution_count": 44,
      "outputs": [
        {
          "output_type": "execute_result",
          "data": {
            "text/plain": [
              "int"
            ]
          },
          "metadata": {
            "tags": []
          },
          "execution_count": 44
        }
      ]
    },
    {
      "cell_type": "code",
      "metadata": {
        "colab": {
          "base_uri": "https://localhost:8080/"
        },
        "id": "KbUX4RNhL2e0",
        "outputId": "1855ad86-e4b7-4fe7-9992-6270a74db31e"
      },
      "source": [
        "# float\r\n",
        "x = 3.5\r\n",
        "\r\n",
        "type(x)"
      ],
      "execution_count": 45,
      "outputs": [
        {
          "output_type": "execute_result",
          "data": {
            "text/plain": [
              "float"
            ]
          },
          "metadata": {
            "tags": []
          },
          "execution_count": 45
        }
      ]
    },
    {
      "cell_type": "code",
      "metadata": {
        "colab": {
          "base_uri": "https://localhost:8080/"
        },
        "id": "bC_rRrZxMEmA",
        "outputId": "66c69c4f-43bd-4020-f4ed-dab334ad4e5f"
      },
      "source": [
        "# boolean\r\n",
        "b1 = True\r\n",
        "b2 = False\r\n",
        "\r\n",
        "type(b1)"
      ],
      "execution_count": 3,
      "outputs": [
        {
          "output_type": "execute_result",
          "data": {
            "text/plain": [
              "bool"
            ]
          },
          "metadata": {
            "tags": []
          },
          "execution_count": 3
        }
      ]
    },
    {
      "cell_type": "code",
      "metadata": {
        "colab": {
          "base_uri": "https://localhost:8080/"
        },
        "id": "6Gg_2tRNMa1Q",
        "outputId": "e10e14ff-ca0b-4397-b3aa-8b54c2313d67"
      },
      "source": [
        "# string\r\n",
        "name1 = 'your name'\r\n",
        "type(name1)"
      ],
      "execution_count": 4,
      "outputs": [
        {
          "output_type": "execute_result",
          "data": {
            "text/plain": [
              "str"
            ]
          },
          "metadata": {
            "tags": []
          },
          "execution_count": 4
        }
      ]
    },
    {
      "cell_type": "code",
      "metadata": {
        "colab": {
          "base_uri": "https://localhost:8080/"
        },
        "id": "2_YdNx3rMyD7",
        "outputId": "f53bffd9-706c-4791-f881-1a2500553686"
      },
      "source": [
        "# complex numbers: note the use of `j` to specify the imaginary part\r\n",
        "x = 1.0 - 2.0j\r\n",
        "type(x)"
      ],
      "execution_count": 5,
      "outputs": [
        {
          "output_type": "execute_result",
          "data": {
            "text/plain": [
              "complex"
            ]
          },
          "metadata": {
            "tags": []
          },
          "execution_count": 5
        }
      ]
    },
    {
      "cell_type": "code",
      "metadata": {
        "colab": {
          "base_uri": "https://localhost:8080/"
        },
        "id": "cwLWwdf7NDR6",
        "outputId": "c642de43-329c-4861-a0b8-98a395c6c7ba"
      },
      "source": [
        "print(x)"
      ],
      "execution_count": 6,
      "outputs": [
        {
          "output_type": "stream",
          "text": [
            "(1-2j)\n"
          ],
          "name": "stdout"
        }
      ]
    },
    {
      "cell_type": "code",
      "metadata": {
        "colab": {
          "base_uri": "https://localhost:8080/"
        },
        "id": "5RXo6YAeNHek",
        "outputId": "b84621b9-ea19-476a-95bd-83f629ccb60c"
      },
      "source": [
        "print(x.real, x.imag)"
      ],
      "execution_count": 7,
      "outputs": [
        {
          "output_type": "stream",
          "text": [
            "1.0 -2.0\n"
          ],
          "name": "stdout"
        }
      ]
    },
    {
      "cell_type": "code",
      "metadata": {
        "colab": {
          "base_uri": "https://localhost:8080/"
        },
        "id": "oCUYNFVhNNB4",
        "outputId": "6431e92b-9222-464e-87f5-40fd355acedc"
      },
      "source": [
        "tenth = 10\r\n",
        "two = 2\r\n",
        "print(tenth)\r\n",
        "two"
      ],
      "execution_count": 8,
      "outputs": [
        {
          "output_type": "stream",
          "text": [
            "10\n"
          ],
          "name": "stdout"
        },
        {
          "output_type": "execute_result",
          "data": {
            "text/plain": [
              "2"
            ]
          },
          "metadata": {
            "tags": []
          },
          "execution_count": 8
        }
      ]
    },
    {
      "cell_type": "code",
      "metadata": {
        "colab": {
          "base_uri": "https://localhost:8080/"
        },
        "id": "LzvWKIiHNUIz",
        "outputId": "b0868dbc-36d0-4286-d36f-6fe76f293e27"
      },
      "source": [
        "ten = 10\r\n",
        "ten"
      ],
      "execution_count": 9,
      "outputs": [
        {
          "output_type": "execute_result",
          "data": {
            "text/plain": [
              "10"
            ]
          },
          "metadata": {
            "tags": []
          },
          "execution_count": 9
        }
      ]
    },
    {
      "cell_type": "code",
      "metadata": {
        "colab": {
          "base_uri": "https://localhost:8080/",
          "height": 35
        },
        "id": "je3Ox-80Nc-t",
        "outputId": "6b5654fc-d7f7-44e3-deca-29524bbf72ac"
      },
      "source": [
        "ten = 'ten'\r\n",
        "ten"
      ],
      "execution_count": 12,
      "outputs": [
        {
          "output_type": "execute_result",
          "data": {
            "application/vnd.google.colaboratory.intrinsic+json": {
              "type": "string"
            },
            "text/plain": [
              "'ten'"
            ]
          },
          "metadata": {
            "tags": []
          },
          "execution_count": 12
        }
      ]
    },
    {
      "cell_type": "code",
      "metadata": {
        "colab": {
          "base_uri": "https://localhost:8080/",
          "height": 35
        },
        "id": "xrX5JAs9NtEB",
        "outputId": "5dfb7b91-e125-4ef5-8bfb-e01e523e5374"
      },
      "source": [
        "'Day ' + str(1)"
      ],
      "execution_count": 13,
      "outputs": [
        {
          "output_type": "execute_result",
          "data": {
            "application/vnd.google.colaboratory.intrinsic+json": {
              "type": "string"
            },
            "text/plain": [
              "'Day 1'"
            ]
          },
          "metadata": {
            "tags": []
          },
          "execution_count": 13
        }
      ]
    },
    {
      "cell_type": "code",
      "metadata": {
        "colab": {
          "base_uri": "https://localhost:8080/"
        },
        "id": "-xoQWI4tOA0Q",
        "outputId": "f3c8059c-9a58-4272-d90f-fb6b1d15743b"
      },
      "source": [
        "True and True"
      ],
      "execution_count": 14,
      "outputs": [
        {
          "output_type": "execute_result",
          "data": {
            "text/plain": [
              "True"
            ]
          },
          "metadata": {
            "tags": []
          },
          "execution_count": 14
        }
      ]
    },
    {
      "cell_type": "code",
      "metadata": {
        "colab": {
          "base_uri": "https://localhost:8080/"
        },
        "id": "C1oRaZGFOJkK",
        "outputId": "9ff5db9f-82e5-4fe6-fedb-eedb2c828206"
      },
      "source": [
        "True or False"
      ],
      "execution_count": 15,
      "outputs": [
        {
          "output_type": "execute_result",
          "data": {
            "text/plain": [
              "True"
            ]
          },
          "metadata": {
            "tags": []
          },
          "execution_count": 15
        }
      ]
    },
    {
      "cell_type": "code",
      "metadata": {
        "colab": {
          "base_uri": "https://localhost:8080/"
        },
        "id": "3IBTzLwmON0c",
        "outputId": "59264807-e734-44a2-b057-ae750c95911d"
      },
      "source": [
        "not True"
      ],
      "execution_count": 16,
      "outputs": [
        {
          "output_type": "execute_result",
          "data": {
            "text/plain": [
              "False"
            ]
          },
          "metadata": {
            "tags": []
          },
          "execution_count": 16
        }
      ]
    },
    {
      "cell_type": "code",
      "metadata": {
        "colab": {
          "base_uri": "https://localhost:8080/"
        },
        "id": "K06IEXS5OOCr",
        "outputId": "004b68b0-bb61-477f-87bc-88622fb8e845"
      },
      "source": [
        "not False"
      ],
      "execution_count": 17,
      "outputs": [
        {
          "output_type": "execute_result",
          "data": {
            "text/plain": [
              "True"
            ]
          },
          "metadata": {
            "tags": []
          },
          "execution_count": 17
        }
      ]
    },
    {
      "cell_type": "code",
      "metadata": {
        "colab": {
          "base_uri": "https://localhost:8080/"
        },
        "id": "D6KltIw3OOQd",
        "outputId": "27d1e65f-856b-4796-ada5-14818cdd4ace"
      },
      "source": [
        "True is True"
      ],
      "execution_count": 18,
      "outputs": [
        {
          "output_type": "execute_result",
          "data": {
            "text/plain": [
              "True"
            ]
          },
          "metadata": {
            "tags": []
          },
          "execution_count": 18
        }
      ]
    },
    {
      "cell_type": "code",
      "metadata": {
        "colab": {
          "base_uri": "https://localhost:8080/"
        },
        "id": "irYeEL_jOd5f",
        "outputId": "f42a9d37-ff94-4afe-a041-5434c99ffff9"
      },
      "source": [
        "True is False"
      ],
      "execution_count": 19,
      "outputs": [
        {
          "output_type": "execute_result",
          "data": {
            "text/plain": [
              "False"
            ]
          },
          "metadata": {
            "tags": []
          },
          "execution_count": 19
        }
      ]
    },
    {
      "cell_type": "code",
      "metadata": {
        "colab": {
          "base_uri": "https://localhost:8080/"
        },
        "id": "RX6sjprgOeGN",
        "outputId": "16e2826f-e00b-4df1-cd22-67d58e815243"
      },
      "source": [
        "'a' is 'a'"
      ],
      "execution_count": 20,
      "outputs": [
        {
          "output_type": "execute_result",
          "data": {
            "text/plain": [
              "True"
            ]
          },
          "metadata": {
            "tags": []
          },
          "execution_count": 20
        }
      ]
    },
    {
      "cell_type": "code",
      "metadata": {
        "colab": {
          "base_uri": "https://localhost:8080/"
        },
        "id": "Hp0boYGMOp8A",
        "outputId": "69aa7514-8e34-45c4-958a-4d0178ad1d94"
      },
      "source": [
        "i = 3\r\n",
        "if i < 3:\r\n",
        "    print('less than 3')\r\n",
        "elif i < 5:\r\n",
        "    print('less than 5')\r\n",
        "else:\r\n",
        "    print('5 or more')\r\n"
      ],
      "execution_count": 21,
      "outputs": [
        {
          "output_type": "stream",
          "text": [
            "less than 5\n"
          ],
          "name": "stdout"
        }
      ]
    },
    {
      "cell_type": "code",
      "metadata": {
        "colab": {
          "base_uri": "https://localhost:8080/"
        },
        "id": "1TPmz7MCOqIu",
        "outputId": "b6f5fb8a-3237-4fd7-841e-24962ada9e12"
      },
      "source": [
        "l = []\r\n",
        "l"
      ],
      "execution_count": 22,
      "outputs": [
        {
          "output_type": "execute_result",
          "data": {
            "text/plain": [
              "[]"
            ]
          },
          "metadata": {
            "tags": []
          },
          "execution_count": 22
        }
      ]
    },
    {
      "cell_type": "code",
      "metadata": {
        "colab": {
          "base_uri": "https://localhost:8080/"
        },
        "id": "bMXUKqZpOqUZ",
        "outputId": "4a9ed40d-df8a-4345-8e7b-27da18af896c"
      },
      "source": [
        "l = list()\r\n",
        "l"
      ],
      "execution_count": 23,
      "outputs": [
        {
          "output_type": "execute_result",
          "data": {
            "text/plain": [
              "[]"
            ]
          },
          "metadata": {
            "tags": []
          },
          "execution_count": 23
        }
      ]
    },
    {
      "cell_type": "code",
      "metadata": {
        "colab": {
          "base_uri": "https://localhost:8080/"
        },
        "id": "mfrzZnMXOqf0",
        "outputId": "05b9a682-02f5-461c-b463-8d50842be753"
      },
      "source": [
        "l = ['a', 'b', 'c']\r\n",
        "print(l)\r\n",
        "type(l)"
      ],
      "execution_count": 24,
      "outputs": [
        {
          "output_type": "stream",
          "text": [
            "['a', 'b', 'c']\n"
          ],
          "name": "stdout"
        },
        {
          "output_type": "execute_result",
          "data": {
            "text/plain": [
              "list"
            ]
          },
          "metadata": {
            "tags": []
          },
          "execution_count": 24
        }
      ]
    },
    {
      "cell_type": "code",
      "metadata": {
        "colab": {
          "base_uri": "https://localhost:8080/"
        },
        "id": "KQN0ebdPPJnW",
        "outputId": "914b2664-f1ec-4c85-9c1a-a31c42067c60"
      },
      "source": [
        "l = ['a',6]\r\n",
        "l"
      ],
      "execution_count": 25,
      "outputs": [
        {
          "output_type": "execute_result",
          "data": {
            "text/plain": [
              "['a', 6]"
            ]
          },
          "metadata": {
            "tags": []
          },
          "execution_count": 25
        }
      ]
    },
    {
      "cell_type": "code",
      "metadata": {
        "colab": {
          "base_uri": "https://localhost:8080/"
        },
        "id": "qv4HtsDOPKZB",
        "outputId": "4c336bf9-7804-4d72-e349-81cbd1923445"
      },
      "source": [
        "l2 = list(l)\r\n",
        "l2\r\n"
      ],
      "execution_count": 26,
      "outputs": [
        {
          "output_type": "execute_result",
          "data": {
            "text/plain": [
              "['a', 6]"
            ]
          },
          "metadata": {
            "tags": []
          },
          "execution_count": 26
        }
      ]
    },
    {
      "cell_type": "code",
      "metadata": {
        "colab": {
          "base_uri": "https://localhost:8080/"
        },
        "id": "eSv0yC5gPKlI",
        "outputId": "1c9b8b9c-9de0-40e0-86e5-4ba395a6e726"
      },
      "source": [
        "list('abcdef')"
      ],
      "execution_count": 27,
      "outputs": [
        {
          "output_type": "execute_result",
          "data": {
            "text/plain": [
              "['a', 'b', 'c', 'd', 'e', 'f']"
            ]
          },
          "metadata": {
            "tags": []
          },
          "execution_count": 27
        }
      ]
    },
    {
      "cell_type": "code",
      "metadata": {
        "colab": {
          "base_uri": "https://localhost:8080/"
        },
        "id": "ZqSmb-qOPKwN",
        "outputId": "8d303bdf-f151-45ad-a8b7-ca5a08e75bab"
      },
      "source": [
        "l = [1,2]\r\n",
        "print(l)\r\n",
        "l.append('b')\r\n",
        "print(l)\r\n",
        "l.append('c')\r\n",
        "print(l)\r\n",
        "l.insert(1, 56)\r\n",
        "l"
      ],
      "execution_count": 28,
      "outputs": [
        {
          "output_type": "stream",
          "text": [
            "[1, 2]\n",
            "[1, 2, 'b']\n",
            "[1, 2, 'b', 'c']\n"
          ],
          "name": "stdout"
        },
        {
          "output_type": "execute_result",
          "data": {
            "text/plain": [
              "[1, 56, 2, 'b', 'c']"
            ]
          },
          "metadata": {
            "tags": []
          },
          "execution_count": 28
        }
      ]
    },
    {
      "cell_type": "code",
      "metadata": {
        "colab": {
          "base_uri": "https://localhost:8080/"
        },
        "id": "8s_YQoykPK7c",
        "outputId": "e8a75e88-465d-4bd1-c266-fb74d5f20c18"
      },
      "source": [
        "for i in l:\r\n",
        "    print(i)"
      ],
      "execution_count": 29,
      "outputs": [
        {
          "output_type": "stream",
          "text": [
            "1\n",
            "56\n",
            "2\n",
            "b\n",
            "c\n"
          ],
          "name": "stdout"
        }
      ]
    },
    {
      "cell_type": "code",
      "metadata": {
        "colab": {
          "base_uri": "https://localhost:8080/"
        },
        "id": "F44GpOwSPq6m",
        "outputId": "c8b39906-fa8a-4861-a5dd-1dfc198f434f"
      },
      "source": [
        "# Program to find the sum of all numbers stored in a list\r\n",
        "\r\n",
        "# List of numbers\r\n",
        "numbers = [6, 5, 3, 8, 4, 2, 5, 4,9]\r\n",
        "\r\n",
        "# variable to store the sum\r\n",
        "sum = 0\r\n",
        "\r\n",
        "# iterate over the list\r\n",
        "for i in numbers:\r\n",
        "    sum = sum + i\r\n",
        "\r\n",
        "# Output: The sum is 48\r\n",
        "print(\"The sum is\", sum)\r\n",
        "sum\r\n"
      ],
      "execution_count": 30,
      "outputs": [
        {
          "output_type": "stream",
          "text": [
            "The sum is 46\n"
          ],
          "name": "stdout"
        },
        {
          "output_type": "execute_result",
          "data": {
            "text/plain": [
              "46"
            ]
          },
          "metadata": {
            "tags": []
          },
          "execution_count": 30
        }
      ]
    },
    {
      "cell_type": "code",
      "metadata": {
        "colab": {
          "base_uri": "https://localhost:8080/"
        },
        "id": "cFWPElp9PrGH",
        "outputId": "1272f803-55ca-4a78-d6f3-d6b46d660282"
      },
      "source": [
        "digits = [0, 1, 5]\r\n",
        "\r\n",
        "for i in digits:\r\n",
        "    print(i)\r\n",
        "else:\r\n",
        "    print(\"No items left.\")"
      ],
      "execution_count": 31,
      "outputs": [
        {
          "output_type": "stream",
          "text": [
            "0\n",
            "1\n",
            "5\n",
            "No items left.\n"
          ],
          "name": "stdout"
        }
      ]
    },
    {
      "cell_type": "code",
      "metadata": {
        "colab": {
          "base_uri": "https://localhost:8080/"
        },
        "id": "ysOYo3ulPrHQ",
        "outputId": "59b13250-1d27-4a70-da78-c665716fc612"
      },
      "source": [
        "# Program to add natural\r\n",
        "# numbers upto \r\n",
        "# sum = 1+2+3+...+n\r\n",
        "\r\n",
        "# To take input from the user,\r\n",
        "n = int(input(\"Enter n: \"))\r\n",
        "\r\n",
        "\r\n",
        "# initialize sum and counter\r\n",
        "sum = 0\r\n",
        "i = 1\r\n",
        "\r\n",
        "while i <= n:\r\n",
        "    sum = sum + i\r\n",
        "    i = i+1    # update counter\r\n",
        "\r\n",
        "# print the sum\r\n",
        "print(\"The sum is\", sum)"
      ],
      "execution_count": 32,
      "outputs": [
        {
          "output_type": "stream",
          "text": [
            "Enter n: 3\n",
            "The sum is 6\n"
          ],
          "name": "stdout"
        }
      ]
    },
    {
      "cell_type": "code",
      "metadata": {
        "colab": {
          "base_uri": "https://localhost:8080/"
        },
        "id": "iE-v1qFQPrLr",
        "outputId": "2451cb3f-f837-4479-a705-1188f80a84e3"
      },
      "source": [
        "print(range(10))"
      ],
      "execution_count": 33,
      "outputs": [
        {
          "output_type": "stream",
          "text": [
            "range(0, 10)\n"
          ],
          "name": "stdout"
        }
      ]
    },
    {
      "cell_type": "code",
      "metadata": {
        "colab": {
          "base_uri": "https://localhost:8080/"
        },
        "id": "WJrjqPoMPrM9",
        "outputId": "7e72cb54-c5c8-41df-ba38-0ff53966dd14"
      },
      "source": [
        "print(list(range(10)))"
      ],
      "execution_count": 34,
      "outputs": [
        {
          "output_type": "stream",
          "text": [
            "[0, 1, 2, 3, 4, 5, 6, 7, 8, 9]\n"
          ],
          "name": "stdout"
        }
      ]
    },
    {
      "cell_type": "code",
      "metadata": {
        "colab": {
          "base_uri": "https://localhost:8080/"
        },
        "id": "OejtNK8fQgxK",
        "outputId": "f6404df9-effe-49e6-c2f8-57d1ebee31db"
      },
      "source": [
        "print(list(range(2, 8)))"
      ],
      "execution_count": 35,
      "outputs": [
        {
          "output_type": "stream",
          "text": [
            "[2, 3, 4, 5, 6, 7]\n"
          ],
          "name": "stdout"
        }
      ]
    },
    {
      "cell_type": "code",
      "metadata": {
        "colab": {
          "base_uri": "https://localhost:8080/"
        },
        "id": "6azZ52YiQg-A",
        "outputId": "474d5aea-143a-4b32-a493-1eb40dc9097b"
      },
      "source": [
        "print(list(range(2, 20, 5)))"
      ],
      "execution_count": 36,
      "outputs": [
        {
          "output_type": "stream",
          "text": [
            "[2, 7, 12, 17]\n"
          ],
          "name": "stdout"
        }
      ]
    },
    {
      "cell_type": "code",
      "metadata": {
        "colab": {
          "base_uri": "https://localhost:8080/"
        },
        "id": "COKBxg4AQhM2",
        "outputId": "218f303b-54bc-4619-f627-5536c30bb020"
      },
      "source": [
        "# Program to iterate through a list using indexing\r\n",
        "\r\n",
        "genre = ['pop', 'rock', 'jazz','sapna']\r\n",
        "\r\n",
        "# iterate over the list using index\r\n",
        "for i in range(len(genre)):\r\n",
        "    print(\"I like\", genre[i])"
      ],
      "execution_count": 37,
      "outputs": [
        {
          "output_type": "stream",
          "text": [
            "I like pop\n",
            "I like rock\n",
            "I like jazz\n",
            "I like sapna\n"
          ],
          "name": "stdout"
        }
      ]
    },
    {
      "cell_type": "code",
      "metadata": {
        "colab": {
          "base_uri": "https://localhost:8080/"
        },
        "id": "phKgI6fCQhYg",
        "outputId": "8fb2a38b-9d4c-47e5-f003-66e19cf0b95d"
      },
      "source": [
        "# Use of break statement inside loop\r\n",
        "\r\n",
        "for val in \"LAHARI\":\r\n",
        "    if val == \"I\":\r\n",
        "        break\r\n",
        "    print(val)\r\n",
        "\r\n",
        "print(\"The end\")"
      ],
      "execution_count": 43,
      "outputs": [
        {
          "output_type": "stream",
          "text": [
            "L\n",
            "A\n",
            "H\n",
            "A\n",
            "R\n",
            "The end\n"
          ],
          "name": "stdout"
        }
      ]
    },
    {
      "cell_type": "code",
      "metadata": {
        "colab": {
          "base_uri": "https://localhost:8080/"
        },
        "id": "ECH-pL8sREmX",
        "outputId": "a6869d8c-a88a-4c84-a710-38c549c47ef8"
      },
      "source": [
        "# Program to take the input string from the user.\r\n",
        "\r\n",
        "name = input(\"What is your name?\\n \")\r\n",
        "type(name)"
      ],
      "execution_count": 39,
      "outputs": [
        {
          "output_type": "stream",
          "text": [
            "What is your name?\n",
            " lahari\n"
          ],
          "name": "stdout"
        },
        {
          "output_type": "execute_result",
          "data": {
            "text/plain": [
              "str"
            ]
          },
          "metadata": {
            "tags": []
          },
          "execution_count": 39
        }
      ]
    },
    {
      "cell_type": "code",
      "metadata": {
        "colab": {
          "base_uri": "https://localhost:8080/"
        },
        "id": "Rj8v3q-eRExH",
        "outputId": "071a0db2-05f2-4df3-9912-24c9a4083442"
      },
      "source": [
        "# Program to read integers from user\r\n",
        "\r\n",
        "age = int(input(\"What is your age? \"))\r\n",
        "print (\"Your age is: \", age)\r\n",
        "type(age)"
      ],
      "execution_count": 40,
      "outputs": [
        {
          "output_type": "stream",
          "text": [
            "What is your age? 20\n",
            "Your age is:  20\n"
          ],
          "name": "stdout"
        },
        {
          "output_type": "execute_result",
          "data": {
            "text/plain": [
              "int"
            ]
          },
          "metadata": {
            "tags": []
          },
          "execution_count": 40
        }
      ]
    },
    {
      "cell_type": "code",
      "metadata": {
        "colab": {
          "base_uri": "https://localhost:8080/"
        },
        "id": "4p0hTWyIREyZ",
        "outputId": "94d6e036-8926-4b74-ea86-0ac224133c95"
      },
      "source": [
        "# Let's have one more example\r\n",
        "\r\n",
        "name = input(\"What is your name? \")\r\n",
        "print (\" It was nice talking you \" + name + \"!\")\r\n",
        "age = input(\"Enter your age? \")\r\n",
        "print(\"Hey, you are already \" + age + \" years old, \" + name + \"!\")\r\n"
      ],
      "execution_count": 42,
      "outputs": [
        {
          "output_type": "stream",
          "text": [
            "What is your name? lucky\n",
            " It was nice talking you lucky!\n",
            "Enter your age? 25\n",
            "Hey, you are already 25 years old, lucky!\n"
          ],
          "name": "stdout"
        }
      ]
    }
  ]
}