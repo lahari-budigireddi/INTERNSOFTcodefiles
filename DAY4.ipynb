{
  "nbformat": 4,
  "nbformat_minor": 0,
  "metadata": {
    "colab": {
      "name": "DAY4.ipynb",
      "provenance": [],
      "authorship_tag": "ABX9TyPgG8P+MrkI2OD8VVrbPPPn",
      "include_colab_link": true
    },
    "kernelspec": {
      "name": "python3",
      "display_name": "Python 3"
    }
  },
  "cells": [
    {
      "cell_type": "markdown",
      "metadata": {
        "id": "view-in-github",
        "colab_type": "text"
      },
      "source": [
        "<a href=\"https://colab.research.google.com/github/lahari-budigireddi/INTERNSOFTcodefiles/blob/main/DAY4.ipynb\" target=\"_parent\"><img src=\"https://colab.research.google.com/assets/colab-badge.svg\" alt=\"Open In Colab\"/></a>"
      ]
    },
    {
      "cell_type": "code",
      "metadata": {
        "colab": {
          "base_uri": "https://localhost:8080/"
        },
        "id": "6nEmSUQMxHgK",
        "outputId": "b1976599-223e-4421-c166-d862bf1392a9"
      },
      "source": [
        "class Person:\r\n",
        "    pass\r\n",
        "\r\n",
        "john_doe = Person()\r\n",
        "john_doe.name = \"Alec\"\r\n",
        "john_doe.surname = \"Baldwin\"\r\n",
        "john_doe.year_of_birth = 1958\r\n",
        "\r\n",
        "\r\n",
        "print(john_doe)\r\n",
        "print(\"%s %s was born in %d.\" %\r\n",
        "      (john_doe.name, john_doe.surname, john_doe.year_of_birth))"
      ],
      "execution_count": 1,
      "outputs": [
        {
          "output_type": "stream",
          "text": [
            "<__main__.Person object at 0x7f79539a9eb8>\n",
            "Alec Baldwin was born in 1958.\n"
          ],
          "name": "stdout"
        }
      ]
    },
    {
      "cell_type": "code",
      "metadata": {
        "id": "GgUcGN_8xJ2A"
      },
      "source": [
        "class Person:\r\n",
        "    def __init__(self, name, surname, year_of_birth):\r\n",
        "        self.name = name\r\n",
        "        self.surname = surname\r\n",
        "        self.year_of_birth = year_of_birth"
      ],
      "execution_count": 3,
      "outputs": []
    },
    {
      "cell_type": "code",
      "metadata": {
        "colab": {
          "base_uri": "https://localhost:8080/"
        },
        "id": "gz36soZ_xJ5S",
        "outputId": "8c9fcc6f-376e-45fb-a16b-b89fb9affab0"
      },
      "source": [
        "alec = Person(\"Alec\", \"Baldwin\", 1958)\r\n",
        "print(alec)\r\n",
        "print(\"%s %s was born in %d\"% (alec.name,alec.surname,alec.year_of_birth))\r\n"
      ],
      "execution_count": 4,
      "outputs": [
        {
          "output_type": "stream",
          "text": [
            "<__main__.Person object at 0x7f7953156c50>\n",
            "Alec Baldwin was born in 1958\n"
          ],
          "name": "stdout"
        }
      ]
    },
    {
      "cell_type": "code",
      "metadata": {
        "colab": {
          "base_uri": "https://localhost:8080/"
        },
        "id": "yhZ-2I3NxJ8w",
        "outputId": "c484db9a-68c2-47a7-9722-573e27f4895b"
      },
      "source": [
        "class Person:\r\n",
        "    def __init__(self, name, surname, year_of_birth):\r\n",
        "        self.name = name\r\n",
        "        self.surname = surname\r\n",
        "        self.year_of_birth = year_of_birth\r\n",
        "    \r\n",
        "    def age(self, current_year):\r\n",
        "        return current_year - self.year_of_birth\r\n",
        "    \r\n",
        "    def __str__(self):\r\n",
        "        return \"%s %s was born in %d .\" % (self.name, self.surname, self.year_of_birth)\r\n",
        "    \r\n",
        "alec = Person(\"Alec\", \"Baldwin\", 1958)\r\n",
        "print(alec)\r\n",
        "print(alec.age(2019))\r\n"
      ],
      "execution_count": 5,
      "outputs": [
        {
          "output_type": "stream",
          "text": [
            "Alec Baldwin was born in 1958 .\n",
            "61\n"
          ],
          "name": "stdout"
        }
      ]
    },
    {
      "cell_type": "code",
      "metadata": {
        "colab": {
          "base_uri": "https://localhost:8080/"
        },
        "id": "GdvodM_CxKF-",
        "outputId": "8aded4a9-4bb6-476f-93e8-15789d4c0583"
      },
      "source": [
        "class Student(Person):\r\n",
        "    def __init__(self, student_id, *args, **kwargs):\r\n",
        "        super(Student, self).__init__(*args, **kwargs)\r\n",
        "        self._student_id = student_id\r\n",
        "        \r\n",
        "charlie = Student(1, 'Charlie', 'Brown', 2006)\r\n",
        "print(charlie)\r\n",
        "print(type(charlie))\r\n",
        "print(isinstance(charlie, Person))\r\n",
        "print(isinstance(charlie, object))\r\n"
      ],
      "execution_count": 6,
      "outputs": [
        {
          "output_type": "stream",
          "text": [
            "Charlie Brown was born in 2006 .\n",
            "<class '__main__.Student'>\n",
            "True\n",
            "True\n"
          ],
          "name": "stdout"
        }
      ]
    },
    {
      "cell_type": "code",
      "metadata": {
        "colab": {
          "base_uri": "https://localhost:8080/"
        },
        "id": "OIXyOBy5xKG9",
        "outputId": "6aac484c-a815-47c0-9b9a-074f92992819"
      },
      "source": [
        "class Student(Person):\r\n",
        "    def __init__(self, student_id, *args, **kwargs):\r\n",
        "        super(Student, self).__init__(*args, **kwargs)\r\n",
        "        self._student_id = student_id\r\n",
        "        \r\n",
        "    def __str__(self):\r\n",
        "        return super(Student, self).__str__() + \" And has ID: %d\" % self._student_id\r\n",
        "        \r\n",
        "charlie = Student(1, 'Charlie', 'Brown', 2006)\r\n",
        "print(charlie)\r\n"
      ],
      "execution_count": 7,
      "outputs": [
        {
          "output_type": "stream",
          "text": [
            "Charlie Brown was born in 2006 . And has ID: 1\n"
          ],
          "name": "stdout"
        }
      ]
    },
    {
      "cell_type": "code",
      "metadata": {
        "id": "TQeZUsC7w37z",
        "colab": {
          "base_uri": "https://localhost:8080/"
        },
        "outputId": "5163d9e6-67ec-4dc8-dcbd-7b50a3c4974a"
      },
      "source": [
        "def summer(a, b):\n",
        "    return a + b\n",
        "\n",
        "print(summer(1, 1))\n",
        "print(summer([\"a\", \"b\", \"c\"], [\"d\", \"e\"]))\n",
        "print(summer(\"abra\", \"cadabra\"))\n"
      ],
      "execution_count": 8,
      "outputs": [
        {
          "output_type": "stream",
          "text": [
            "2\n",
            "['a', 'b', 'c', 'd', 'e']\n",
            "abracadabra\n"
          ],
          "name": "stdout"
        }
      ]
    }
  ]
}