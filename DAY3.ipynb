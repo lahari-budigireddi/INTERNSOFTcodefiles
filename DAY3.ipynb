{
  "nbformat": 4,
  "nbformat_minor": 0,
  "metadata": {
    "colab": {
      "name": "DAY3.ipynb",
      "provenance": [],
      "authorship_tag": "ABX9TyPNJo7cbtmzbH5KiwtaD0xL",
      "include_colab_link": true
    },
    "kernelspec": {
      "name": "python3",
      "display_name": "Python 3"
    }
  },
  "cells": [
    {
      "cell_type": "markdown",
      "metadata": {
        "id": "view-in-github",
        "colab_type": "text"
      },
      "source": [
        "<a href=\"https://colab.research.google.com/github/lahari-budigireddi/INTERNSOFTcodefiles/blob/main/DAY3.ipynb\" target=\"_parent\"><img src=\"https://colab.research.google.com/assets/colab-badge.svg\" alt=\"Open In Colab\"/></a>"
      ]
    },
    {
      "cell_type": "code",
      "metadata": {
        "id": "d7eWw5qwmL8V"
      },
      "source": [
        "t = (1,2,3)"
      ],
      "execution_count": 1,
      "outputs": []
    },
    {
      "cell_type": "code",
      "metadata": {
        "colab": {
          "base_uri": "https://localhost:8080/"
        },
        "id": "UVTsqSeymN25",
        "outputId": "8e3d244f-c09f-4a27-d7e7-760f155d6910"
      },
      "source": [
        "len(t)"
      ],
      "execution_count": 2,
      "outputs": [
        {
          "output_type": "execute_result",
          "data": {
            "text/plain": [
              "3"
            ]
          },
          "metadata": {
            "tags": []
          },
          "execution_count": 2
        }
      ]
    },
    {
      "cell_type": "code",
      "metadata": {
        "colab": {
          "base_uri": "https://localhost:8080/"
        },
        "id": "89XoDRAGmN4B",
        "outputId": "d60f41d9-7daa-4709-87ca-dbe091aaee08"
      },
      "source": [
        "t = ('one',2)\r\n",
        "t\r\n"
      ],
      "execution_count": 3,
      "outputs": [
        {
          "output_type": "execute_result",
          "data": {
            "text/plain": [
              "('one', 2)"
            ]
          },
          "metadata": {
            "tags": []
          },
          "execution_count": 3
        }
      ]
    },
    {
      "cell_type": "code",
      "metadata": {
        "colab": {
          "base_uri": "https://localhost:8080/",
          "height": 35
        },
        "id": "hQd-Lk_LmN9o",
        "outputId": "365f21d1-d8f7-43f7-ab19-f95480db4702"
      },
      "source": [
        "t[0]"
      ],
      "execution_count": 4,
      "outputs": [
        {
          "output_type": "execute_result",
          "data": {
            "application/vnd.google.colaboratory.intrinsic+json": {
              "type": "string"
            },
            "text/plain": [
              "'one'"
            ]
          },
          "metadata": {
            "tags": []
          },
          "execution_count": 4
        }
      ]
    },
    {
      "cell_type": "code",
      "metadata": {
        "colab": {
          "base_uri": "https://localhost:8080/"
        },
        "id": "o9UR_YNZmOHE",
        "outputId": "cdc5dfcc-d4b7-4f45-8181-cbf33bc59043"
      },
      "source": [
        "t[-1]"
      ],
      "execution_count": 5,
      "outputs": [
        {
          "output_type": "execute_result",
          "data": {
            "text/plain": [
              "2"
            ]
          },
          "metadata": {
            "tags": []
          },
          "execution_count": 5
        }
      ]
    },
    {
      "cell_type": "code",
      "metadata": {
        "colab": {
          "base_uri": "https://localhost:8080/"
        },
        "id": "2mJnzpa-mOII",
        "outputId": "9cbf6178-4599-4cbd-a89b-2aed9ae026c8"
      },
      "source": [
        "t.index('one')"
      ],
      "execution_count": 6,
      "outputs": [
        {
          "output_type": "execute_result",
          "data": {
            "text/plain": [
              "0"
            ]
          },
          "metadata": {
            "tags": []
          },
          "execution_count": 6
        }
      ]
    },
    {
      "cell_type": "code",
      "metadata": {
        "colab": {
          "base_uri": "https://localhost:8080/"
        },
        "id": "LuRt7QqdmOOd",
        "outputId": "46a34f77-e252-4a92-f681-fa91effbb0ce"
      },
      "source": [
        "t.count('one')"
      ],
      "execution_count": 7,
      "outputs": [
        {
          "output_type": "execute_result",
          "data": {
            "text/plain": [
              "1"
            ]
          },
          "metadata": {
            "tags": []
          },
          "execution_count": 7
        }
      ]
    },
    {
      "cell_type": "code",
      "metadata": {
        "id": "jgbd1NnymCYQ",
        "colab": {
          "base_uri": "https://localhost:8080/"
        },
        "outputId": "83cb9c70-d907-4726-d017-11baf25b244a"
      },
      "source": [
        "\n",
        "l = [1,1,2,2,3,4,5,6,1,1]\n",
        "set(l)"
      ],
      "execution_count": 11,
      "outputs": [
        {
          "output_type": "execute_result",
          "data": {
            "text/plain": [
              "{1, 2, 3, 4, 5, 6}"
            ]
          },
          "metadata": {
            "tags": []
          },
          "execution_count": 11
        }
      ]
    },
    {
      "cell_type": "code",
      "metadata": {
        "colab": {
          "base_uri": "https://localhost:8080/"
        },
        "id": "78IoZD3gn6LA",
        "outputId": "2b7be007-038f-4eda-9ee3-7c32af4f7260"
      },
      "source": [
        "my_dict = {'key1':123,'key2':[12,23,33],'key3':['item0','item1','item2']}\r\n",
        "my_dict['key3']"
      ],
      "execution_count": 13,
      "outputs": [
        {
          "output_type": "execute_result",
          "data": {
            "text/plain": [
              "['item0', 'item1', 'item2']"
            ]
          },
          "metadata": {
            "tags": []
          },
          "execution_count": 13
        }
      ]
    },
    {
      "cell_type": "code",
      "metadata": {
        "colab": {
          "base_uri": "https://localhost:8080/",
          "height": 35
        },
        "id": "qlxZcJgao5ql",
        "outputId": "027a017f-ed7f-4e02-866d-e73bc4e478ff"
      },
      "source": [
        "my_dict['key3'][0]"
      ],
      "execution_count": 14,
      "outputs": [
        {
          "output_type": "execute_result",
          "data": {
            "application/vnd.google.colaboratory.intrinsic+json": {
              "type": "string"
            },
            "text/plain": [
              "'item0'"
            ]
          },
          "metadata": {
            "tags": []
          },
          "execution_count": 14
        }
      ]
    },
    {
      "cell_type": "code",
      "metadata": {
        "colab": {
          "base_uri": "https://localhost:8080/",
          "height": 35
        },
        "id": "rwaw8iBAo5rk",
        "outputId": "1f1263d0-960a-4350-8235-5921555a66ab"
      },
      "source": [
        "my_dict['key3'][0].upper()"
      ],
      "execution_count": 15,
      "outputs": [
        {
          "output_type": "execute_result",
          "data": {
            "application/vnd.google.colaboratory.intrinsic+json": {
              "type": "string"
            },
            "text/plain": [
              "'ITEM0'"
            ]
          },
          "metadata": {
            "tags": []
          },
          "execution_count": 15
        }
      ]
    },
    {
      "cell_type": "code",
      "metadata": {
        "colab": {
          "base_uri": "https://localhost:8080/"
        },
        "id": "B99qvVnpo53C",
        "outputId": "630bccd0-640e-4956-935a-258d7a0696ae"
      },
      "source": [
        "my_dict['key1']"
      ],
      "execution_count": 16,
      "outputs": [
        {
          "output_type": "execute_result",
          "data": {
            "text/plain": [
              "123"
            ]
          },
          "metadata": {
            "tags": []
          },
          "execution_count": 16
        }
      ]
    },
    {
      "cell_type": "code",
      "metadata": {
        "colab": {
          "base_uri": "https://localhost:8080/"
        },
        "id": "qrxxHEKco58C",
        "outputId": "7329165d-19a7-4b7e-a735-193642601e4e"
      },
      "source": [
        "my_dict['key1'] = my_dict['key1'] - 123\r\n",
        "my_dict['key1']"
      ],
      "execution_count": 19,
      "outputs": [
        {
          "output_type": "execute_result",
          "data": {
            "text/plain": [
              "-246"
            ]
          },
          "metadata": {
            "tags": []
          },
          "execution_count": 19
        }
      ]
    },
    {
      "cell_type": "code",
      "metadata": {
        "colab": {
          "base_uri": "https://localhost:8080/"
        },
        "id": "rySiXwaro6Cd",
        "outputId": "169428d8-707f-4cc5-c5f0-a90608113641"
      },
      "source": [
        "d = {}\r\n",
        "d['animal'] = 'Dog'\r\n",
        "d['answer'] = 42\r\n",
        "d"
      ],
      "execution_count": 20,
      "outputs": [
        {
          "output_type": "execute_result",
          "data": {
            "text/plain": [
              "{'animal': 'Dog', 'answer': 42}"
            ]
          },
          "metadata": {
            "tags": []
          },
          "execution_count": 20
        }
      ]
    },
    {
      "cell_type": "code",
      "metadata": {
        "colab": {
          "base_uri": "https://localhost:8080/",
          "height": 35
        },
        "id": "-H57mfyJo6H6",
        "outputId": "64c489bb-0da2-4ba6-b7cd-7b1b60c2fe14"
      },
      "source": [
        "d = {'key1':{'nestkey':{'subnestkey':'value'}}}\r\n",
        "d['key1']['nestkey']['subnestkey']"
      ],
      "execution_count": 21,
      "outputs": [
        {
          "output_type": "execute_result",
          "data": {
            "application/vnd.google.colaboratory.intrinsic+json": {
              "type": "string"
            },
            "text/plain": [
              "'value'"
            ]
          },
          "metadata": {
            "tags": []
          },
          "execution_count": 21
        }
      ]
    },
    {
      "cell_type": "code",
      "metadata": {
        "colab": {
          "base_uri": "https://localhost:8080/"
        },
        "id": "KKdhgbF-o6Nr",
        "outputId": "fd68e1e0-2721-4cda-f278-1b2e0d3b0da0"
      },
      "source": [
        "d = {'key1':1,'key2':2,'key3':3}\r\n",
        "d.keys()"
      ],
      "execution_count": 22,
      "outputs": [
        {
          "output_type": "execute_result",
          "data": {
            "text/plain": [
              "dict_keys(['key1', 'key2', 'key3'])"
            ]
          },
          "metadata": {
            "tags": []
          },
          "execution_count": 22
        }
      ]
    },
    {
      "cell_type": "code",
      "metadata": {
        "colab": {
          "base_uri": "https://localhost:8080/"
        },
        "id": "PlAiVj6Qo6Sq",
        "outputId": "46c5195e-8aa7-4501-aa00-7ad2fa71ccd1"
      },
      "source": [
        "d.items()"
      ],
      "execution_count": 23,
      "outputs": [
        {
          "output_type": "execute_result",
          "data": {
            "text/plain": [
              "dict_items([('key1', 1), ('key2', 2), ('key3', 3)])"
            ]
          },
          "metadata": {
            "tags": []
          },
          "execution_count": 23
        }
      ]
    },
    {
      "cell_type": "code",
      "metadata": {
        "colab": {
          "base_uri": "https://localhost:8080/"
        },
        "id": "Q-ijhUvpo6aJ",
        "outputId": "e4034d43-0077-41b6-c081-98bd09f7f75c"
      },
      "source": [
        "d.values()"
      ],
      "execution_count": 24,
      "outputs": [
        {
          "output_type": "execute_result",
          "data": {
            "text/plain": [
              "dict_values([1, 2, 3])"
            ]
          },
          "metadata": {
            "tags": []
          },
          "execution_count": 24
        }
      ]
    },
    {
      "cell_type": "code",
      "metadata": {
        "colab": {
          "base_uri": "https://localhost:8080/"
        },
        "id": "J6mFIRWun6V0",
        "outputId": "6fd97e53-8f05-4f59-ac5d-30c06582c6c6"
      },
      "source": [
        "print(list(range(10)))"
      ],
      "execution_count": 25,
      "outputs": [
        {
          "output_type": "stream",
          "text": [
            "[0, 1, 2, 3, 4, 5, 6, 7, 8, 9]\n"
          ],
          "name": "stdout"
        }
      ]
    },
    {
      "cell_type": "code",
      "metadata": {
        "colab": {
          "base_uri": "https://localhost:8080/"
        },
        "id": "gMSQxmnbn6hM",
        "outputId": "21f7fdc8-cbd9-4ac4-85a3-64917af19ffa"
      },
      "source": [
        "{x:x**2 for x in range(10)}"
      ],
      "execution_count": 26,
      "outputs": [
        {
          "output_type": "execute_result",
          "data": {
            "text/plain": [
              "{0: 0, 1: 1, 2: 4, 3: 9, 4: 16, 5: 25, 6: 36, 7: 49, 8: 64, 9: 81}"
            ]
          },
          "metadata": {
            "tags": []
          },
          "execution_count": 26
        }
      ]
    },
    {
      "cell_type": "code",
      "metadata": {
        "id": "ZXoMKC4Jq3E1"
      },
      "source": [
        "def say_hello():\r\n",
        "    print('hello')"
      ],
      "execution_count": 27,
      "outputs": []
    },
    {
      "cell_type": "code",
      "metadata": {
        "colab": {
          "base_uri": "https://localhost:8080/"
        },
        "id": "DbGJDIvXq3Px",
        "outputId": "bb5695d0-f27e-45a7-c9c2-11d41c7ed7d1"
      },
      "source": [
        "say_hello()"
      ],
      "execution_count": 28,
      "outputs": [
        {
          "output_type": "stream",
          "text": [
            "hello\n"
          ],
          "name": "stdout"
        }
      ]
    },
    {
      "cell_type": "code",
      "metadata": {
        "id": "IRFCaCeHq3Q7"
      },
      "source": [
        "def greeting(name):\r\n",
        "    print('Hello %s' %name)\r\n",
        "    print('how are you doing %s'%name)\r\n",
        "    greeting('Jose')"
      ],
      "execution_count": 31,
      "outputs": []
    },
    {
      "cell_type": "code",
      "metadata": {
        "id": "IXVbG3t0q3Wh"
      },
      "source": [
        "def add_num(num1,num2):\r\n",
        "    return num1+num2\r\n",
        "    add_num(4,5)"
      ],
      "execution_count": 33,
      "outputs": []
    },
    {
      "cell_type": "code",
      "metadata": {
        "id": "nDq7aWD5q3cS"
      },
      "source": [
        "result = add_num(4,5)"
      ],
      "execution_count": 35,
      "outputs": []
    },
    {
      "cell_type": "code",
      "metadata": {
        "colab": {
          "base_uri": "https://localhost:8080/"
        },
        "id": "Lkg0A9A-q3gC",
        "outputId": "b4f17b68-6a4f-4256-f198-8107962b1288"
      },
      "source": [
        "print(result)"
      ],
      "execution_count": 36,
      "outputs": [
        {
          "output_type": "stream",
          "text": [
            "9\n"
          ],
          "name": "stdout"
        }
      ]
    },
    {
      "cell_type": "code",
      "metadata": {
        "colab": {
          "base_uri": "https://localhost:8080/"
        },
        "id": "3igCrSlAq3hS",
        "outputId": "c3c491a2-1800-41ba-fc8f-3a86fb62ab35"
      },
      "source": [
        "print(add_num('one\\t','two'))"
      ],
      "execution_count": 37,
      "outputs": [
        {
          "output_type": "stream",
          "text": [
            "one\ttwo\n"
          ],
          "name": "stdout"
        }
      ]
    },
    {
      "cell_type": "code",
      "metadata": {
        "id": "6UcdmYgOq3lW"
      },
      "source": [
        "def is_prime(num):\r\n",
        "    '''\r\n",
        "    Naive method of checking for primes. \r\n",
        "    '''\r\n",
        "    for n in range(2,num):\r\n",
        "        if num % n == 0:\r\n",
        "            print('not prime')\r\n",
        "            break\r\n",
        "    else: # If never mod zero, then prime\r\n",
        "        print('prime')"
      ],
      "execution_count": 39,
      "outputs": []
    },
    {
      "cell_type": "code",
      "metadata": {
        "id": "nO7dvnreq3rN"
      },
      "source": [
        "import math\r\n",
        "\r\n",
        "def is_prime(num):\r\n",
        "    '''\r\n",
        "    A Better method of checking for primes. \r\n",
        "    '''\r\n",
        "    if num % 2 == 0 and num > 2: \r\n",
        "        return False\r\n",
        "    for i in range(3, int(math.sqrt(num)) + 1, 2):\r\n",
        "        if num % i == 0:\r\n",
        "            return False\r\n",
        "    return True"
      ],
      "execution_count": 41,
      "outputs": []
    },
    {
      "cell_type": "code",
      "metadata": {
        "id": "Z1ZT-xrisoh9"
      },
      "source": [
        ""
      ],
      "execution_count": null,
      "outputs": []
    },
    {
      "cell_type": "code",
      "metadata": {
        "id": "P9K9ZjvymCYs",
        "colab": {
          "base_uri": "https://localhost:8080/"
        },
        "outputId": "ed528906-2962-40d5-d998-29086caa2242"
      },
      "source": [
        "is_prime(11)"
      ],
      "execution_count": 42,
      "outputs": [
        {
          "output_type": "execute_result",
          "data": {
            "text/plain": [
              "True"
            ]
          },
          "metadata": {
            "tags": []
          },
          "execution_count": 42
        }
      ]
    },
    {
      "cell_type": "code",
      "metadata": {
        "id": "VQu-bSRfszW5"
      },
      "source": [
        "def gencubes(n):\r\n",
        "    for num in range(n):\r\n",
        "        yield num**3"
      ],
      "execution_count": 44,
      "outputs": []
    },
    {
      "cell_type": "code",
      "metadata": {
        "scrolled": true,
        "id": "h8TbVcTgmCYt",
        "colab": {
          "base_uri": "https://localhost:8080/"
        },
        "outputId": "f471ca0e-983d-4dd4-feae-cdb75c48c503"
      },
      "source": [
        "for x in gencubes(6):\n",
        "    print(x)"
      ],
      "execution_count": 45,
      "outputs": [
        {
          "output_type": "stream",
          "text": [
            "0\n",
            "1\n",
            "8\n",
            "27\n",
            "64\n",
            "125\n"
          ],
          "name": "stdout"
        }
      ]
    },
    {
      "cell_type": "code",
      "metadata": {
        "id": "5-YX7oe-mCYv"
      },
      "source": [
        "def genfibon(n):\n",
        "    '''\n",
        "    Generate a fibonacci sequence up to n\n",
        "    '''\n",
        "    a = 1\n",
        "    b = 1\n",
        "    for i in range(n):\n",
        "        yield a\n",
        "        a,b = b,a+b"
      ],
      "execution_count": null,
      "outputs": []
    },
    {
      "cell_type": "code",
      "metadata": {
        "colab": {
          "base_uri": "https://localhost:8080/"
        },
        "id": "tT2LkfaVs0P9",
        "outputId": "913e6494-21a2-4533-892e-5b95a00fb0db"
      },
      "source": [
        "print(list(range(3)))"
      ],
      "execution_count": 48,
      "outputs": [
        {
          "output_type": "stream",
          "text": [
            "[0, 1, 2]\n"
          ],
          "name": "stdout"
        }
      ]
    },
    {
      "cell_type": "code",
      "metadata": {
        "id": "yCpPzS2bs0XK"
      },
      "source": [
        "def simple_gen():\r\n",
        "    for x in range(3):\r\n",
        "        yield x"
      ],
      "execution_count": null,
      "outputs": []
    },
    {
      "cell_type": "code",
      "metadata": {
        "colab": {
          "base_uri": "https://localhost:8080/"
        },
        "id": "gzlhVxoYuRpN",
        "outputId": "2bc9d261-31ce-4263-af2d-0bcc5edb0605"
      },
      "source": [
        "a = [1,2,3,4]\r\n",
        "b = [5,6,7,8]\r\n",
        "c = [9,10,11,12]\r\n",
        "\r\n",
        "list(map(lambda x,y:x+y, a,b))"
      ],
      "execution_count": 54,
      "outputs": [
        {
          "output_type": "execute_result",
          "data": {
            "text/plain": [
              "[6, 8, 10, 12]"
            ]
          },
          "metadata": {
            "tags": []
          },
          "execution_count": 54
        }
      ]
    },
    {
      "cell_type": "code",
      "metadata": {
        "colab": {
          "base_uri": "https://localhost:8080/"
        },
        "id": "IifwuHrZuR-J",
        "outputId": "1b2b202e-e5ca-4ab5-fc8e-f3318bb1ace0"
      },
      "source": [
        "from functools import reduce\r\n",
        "lst =[47,11,42,13]\r\n",
        "reduce(lambda x,y: x+y,lst)"
      ],
      "execution_count": 55,
      "outputs": [
        {
          "output_type": "execute_result",
          "data": {
            "text/plain": [
              "113"
            ]
          },
          "metadata": {
            "tags": []
          },
          "execution_count": 55
        }
      ]
    },
    {
      "cell_type": "code",
      "metadata": {
        "id": "syvlOUgduR_d"
      },
      "source": [
        "max_find = lambda a,b: a if (a > b) else b"
      ],
      "execution_count": 57,
      "outputs": []
    },
    {
      "cell_type": "code",
      "metadata": {
        "colab": {
          "base_uri": "https://localhost:8080/"
        },
        "id": "6nVWKs6WuSF9",
        "outputId": "905c2d02-f1d0-463a-b16b-35660a91012f"
      },
      "source": [
        "print(lst)\r\n",
        "reduce(lambda a,b: a if (a > b) else b,lst)"
      ],
      "execution_count": 58,
      "outputs": [
        {
          "output_type": "stream",
          "text": [
            "[47, 11, 42, 13]\n"
          ],
          "name": "stdout"
        },
        {
          "output_type": "execute_result",
          "data": {
            "text/plain": [
              "47"
            ]
          },
          "metadata": {
            "tags": []
          },
          "execution_count": 58
        }
      ]
    },
    {
      "cell_type": "code",
      "metadata": {
        "id": "7cMJD1RyvLS3"
      },
      "source": [
        "def even_check(num):\r\n",
        "    if num%2 ==0:\r\n",
        "        return True"
      ],
      "execution_count": 59,
      "outputs": []
    },
    {
      "cell_type": "code",
      "metadata": {
        "colab": {
          "base_uri": "https://localhost:8080/"
        },
        "id": "s_BvMqmbvLgf",
        "outputId": "b58f7763-6597-4ff1-dc98-b0936ac68c4f"
      },
      "source": [
        "lst =range(20)\r\n",
        "print(list(lst))\r\n",
        "\r\n",
        "list(filter(even_check,lst))"
      ],
      "execution_count": 60,
      "outputs": [
        {
          "output_type": "stream",
          "text": [
            "[0, 1, 2, 3, 4, 5, 6, 7, 8, 9, 10, 11, 12, 13, 14, 15, 16, 17, 18, 19]\n"
          ],
          "name": "stdout"
        },
        {
          "output_type": "execute_result",
          "data": {
            "text/plain": [
              "[0, 2, 4, 6, 8, 10, 12, 14, 16, 18]"
            ]
          },
          "metadata": {
            "tags": []
          },
          "execution_count": 60
        }
      ]
    },
    {
      "cell_type": "code",
      "metadata": {
        "colab": {
          "base_uri": "https://localhost:8080/"
        },
        "id": "Q0idq3mmvLr1",
        "outputId": "550e4da6-836a-4da7-e0a4-928cfcc1323d"
      },
      "source": [
        "list(filter(lambda x: x%2==0,lst))"
      ],
      "execution_count": 61,
      "outputs": [
        {
          "output_type": "execute_result",
          "data": {
            "text/plain": [
              "[0, 2, 4, 6, 8, 10, 12, 14, 16, 18]"
            ]
          },
          "metadata": {
            "tags": []
          },
          "execution_count": 61
        }
      ]
    }
  ]
}